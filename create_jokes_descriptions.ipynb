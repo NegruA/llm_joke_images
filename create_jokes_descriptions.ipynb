{
 "cells": [
  {
   "cell_type": "markdown",
   "metadata": {},
   "source": [
    "# Notebook to scrape online jokes"
   ]
  },
  {
   "cell_type": "code",
   "execution_count": 19,
   "metadata": {},
   "outputs": [],
   "source": [
    "import requests\n",
    "from bs4 import BeautifulSoup\n",
    "import re\n",
    "import pickle"
   ]
  },
  {
   "cell_type": "code",
   "execution_count": 13,
   "metadata": {},
   "outputs": [
    {
     "name": "stdout",
     "output_type": "stream",
     "text": [
      "First 5 jokes:\n",
      "['Doi pereţi discută: Ne întâlnim la colţ!', 'Doi vulturi stăteau pe o cracă, iar al treilea stătea să cadă.', 'Dragoste germană: Te vreau rece!', 'Un om stătea pe gânduri, dar când să-i vină ideea, a alunecat.', 'Culmea auzului: să auzi cum se crapă de ziuă!']\n",
      "\n",
      "Last 5 jokes:\n",
      "['Din camera lui Bulă se aude „Bum!”. Mama lui îl întreabă:– Ce-a fost asta?– Mi-a căzut tricoul.– Părea ceva mult mai greu.– Păi eram și eu în el…', 'La un interviu de angajare, candidatul este întrebat:– Unde te vezi peste 5 ani?– Păi, dacă nu inventează ăștia altceva, tot în oglindă.', 'Pot să-mi iau concediu medical dacă am boală pe cineva?', 'Când dormi prost toată noaptea este imposibil să te trezești deștept dimineața.', 'O muscă zbura în continuu, zi și noapte, noapte și zi. Însă, doar până într-o zi când a obosit și s-a hotarat să lase elefantul jos, la sol.']\n"
     ]
    }
   ],
   "source": [
    "# URL of the jokes page\n",
    "url = \"https://www.libertatea.ro/lifestyle/bancuri-seci-cele-mai-amuzante-glume-seci-5031644/amp\"\n",
    "\n",
    "# Fetch page content\n",
    "response = requests.get(url)\n",
    "response.raise_for_status()  # Check if the page loaded correctly\n",
    "\n",
    "# Parse HTML\n",
    "soup = BeautifulSoup(response.text, 'html.parser')\n",
    "\n",
    "# Extract jokes from the ordered list\n",
    "jokes = []\n",
    "joke_list = soup.select(\"div > ol\")  # Select the ordered list containing the main jokes\n",
    "if joke_list:\n",
    "    for li in joke_list[0].find_all('li'):  # Iterate through each list item\n",
    "        jokes.append(li.get_text(strip=True))\n",
    "\n",
    "# Extract the additional joke from the specific paragraph\n",
    "additional_joke = soup.select_one(\"div > p:nth-of-type(11)\")\n",
    "if additional_joke:\n",
    "    concatenated_jokes = additional_joke.get_text(strip=True)\n",
    "    # Split concatenated text into individual jokes based on numbering format\n",
    "    split_jokes = re.split(r'\\d+\\.\\s', concatenated_jokes)\n",
    "    jokes.extend([joke.strip() for joke in split_jokes if joke])  # Add the separated jokes\n",
    "\n",
    "# Display the first and last 5 jokes for verification\n",
    "print(\"First 5 jokes:\")\n",
    "print(jokes[:5])\n",
    "print(\"\\nLast 5 jokes:\")\n",
    "print(jokes[-5:])\n"
   ]
  },
  {
   "cell_type": "code",
   "execution_count": 20,
   "metadata": {},
   "outputs": [],
   "source": [
    "# Save the list of jokes to a file\n",
    "with open(\"jokes_list.pkl\", \"wb\") as file:\n",
    "    pickle.dump(jokes, file)"
   ]
  }
 ],
 "metadata": {
  "kernelspec": {
   "display_name": "Python 3",
   "language": "python",
   "name": "python3"
  },
  "language_info": {
   "codemirror_mode": {
    "name": "ipython",
    "version": 3
   },
   "file_extension": ".py",
   "mimetype": "text/x-python",
   "name": "python",
   "nbconvert_exporter": "python",
   "pygments_lexer": "ipython3",
   "version": "3.9.13"
  }
 },
 "nbformat": 4,
 "nbformat_minor": 2
}
